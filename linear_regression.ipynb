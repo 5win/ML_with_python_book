{
 "cells": [
  {
   "cell_type": "code",
   "execution_count": 5,
   "metadata": {},
   "outputs": [
    {
     "name": "stdout",
     "output_type": "stream",
     "text": [
      "[-0.1949987   0.00440079  0.61292906  0.36760412]\n"
     ]
    }
   ],
   "source": [
    "from sklearn import datasets\n",
    "from sklearn.model_selection import train_test_split\n",
    "from sklearn.preprocessing import StandardScaler\n",
    "from sklearn.linear_model import LinearRegression\n",
    "\n",
    "raw_data = datasets.load_iris()\n",
    "\n",
    "X = raw_data.data\n",
    "y = raw_data.target\n",
    "\n",
    "X_tn, X_te, y_tn, y_te = train_test_split(X, y, random_state=1)\n",
    "std_scale = StandardScaler()\n",
    "std_scale.fit(X_tn)\n",
    "X_tn_std = std_scale.transform(X_tn)\n",
    "X_te_std = std_scale.transform(X_te)\n",
    "\n",
    "clf_lr = LinearRegression()\n",
    "clf_lr.fit(X_tn_std, y_tn)\n",
    "\n",
    "print(clf_lr.coef_)"
   ]
  },
  {
   "cell_type": "code",
   "execution_count": null,
   "metadata": {},
   "outputs": [],
   "source": []
  }
 ],
 "metadata": {
  "kernelspec": {
   "display_name": "tf",
   "language": "python",
   "name": "python3"
  },
  "language_info": {
   "codemirror_mode": {
    "name": "ipython",
    "version": 3
   },
   "file_extension": ".py",
   "mimetype": "text/x-python",
   "name": "python",
   "nbconvert_exporter": "python",
   "pygments_lexer": "ipython3",
   "version": "3.10.8"
  },
  "orig_nbformat": 4,
  "vscode": {
   "interpreter": {
    "hash": "60d46f9e4f4343f0772757334aa36dabccfb698ac358eb90019b9cbee057e4dd"
   }
  }
 },
 "nbformat": 4,
 "nbformat_minor": 2
}
